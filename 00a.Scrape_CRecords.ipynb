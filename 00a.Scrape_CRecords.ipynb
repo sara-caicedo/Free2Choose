{
 "cells": [
  {
   "cell_type": "markdown",
   "metadata": {},
   "source": [
    "## This is the awesome code that helps me mae my thesis\n",
    "# 1. Goes to every web page fro the congressional reords and downloads the pdf\n",
    "# 2. Storages the pdf\n",
    "# 3. Scrapes the pdf, god knows how\n",
    "# 4. Deletes the pdf\n",
    "# 5. Stores the text data as a df where each row is an intervention,\n",
    "# 6. Defines the columns of this awesome df as \"Date\", \"Name of Senator\", \"Discourse\"\n",
    "# ------------------------------------------------------------------------------------------------------\n",
    "# Eventually I have to make a more comprehensive data that adds information about every Senator, pottentially with entity dissambiguation\n"
   ]
  },
  {
   "cell_type": "markdown",
   "metadata": {},
   "source": []
  },
  {
   "cell_type": "code",
   "execution_count": 1,
   "metadata": {},
   "outputs": [
    {
     "name": "stdout",
     "output_type": "stream",
     "text": [
      "Requirement already satisfied: pytesseract in /opt/anaconda3/lib/python3.12/site-packages (0.3.13)\n",
      "Requirement already satisfied: packaging>=21.3 in /opt/anaconda3/lib/python3.12/site-packages (from pytesseract) (23.2)\n",
      "Requirement already satisfied: Pillow>=8.0.0 in /opt/anaconda3/lib/python3.12/site-packages (from pytesseract) (10.3.0)\n"
     ]
    }
   ],
   "source": [
    "!pip install pytesseract"
   ]
  },
  {
   "cell_type": "code",
   "execution_count": 2,
   "metadata": {},
   "outputs": [],
   "source": [
    "import pytesseract\n",
    "import pandas as pd\n",
    "from pathlib import Path"
   ]
  },
  {
   "cell_type": "code",
   "execution_count": null,
   "metadata": {},
   "outputs": [],
   "source": []
  }
 ],
 "metadata": {
  "kernelspec": {
   "display_name": "base",
   "language": "python",
   "name": "python3"
  },
  "language_info": {
   "codemirror_mode": {
    "name": "ipython",
    "version": 3
   },
   "file_extension": ".py",
   "mimetype": "text/x-python",
   "name": "python",
   "nbconvert_exporter": "python",
   "pygments_lexer": "ipython3",
   "version": "3.12.4"
  }
 },
 "nbformat": 4,
 "nbformat_minor": 2
}
